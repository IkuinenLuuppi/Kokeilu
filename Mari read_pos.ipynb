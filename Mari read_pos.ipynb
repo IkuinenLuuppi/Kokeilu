{
 "cells": [
  {
   "cell_type": "markdown",
   "metadata": {},
   "source": [
    "# Read POS data\n",
    "Reads the data format used in https://github.com/UniversalDependencies/UD_English-EWT (CoNLLU) and converts it to json.\n",
    "\n",
    "You have to clone the above repository to get the used data."
   ]
  },
  {
   "cell_type": "code",
   "execution_count": null,
   "metadata": {},
   "outputs": [],
   "source": [
    "import json\n",
    "\n",
    "def to_json(in_path, out_path):\n",
    "    sentences = []\n",
    "    with open(in_path, 'rt') as input_file:\n",
    "        sentence_tokens = []\n",
    "        sentence_tags = []\n",
    "        for line in input_file:\n",
    "            # Empty lines are sentence boundaries in the CoNLL format\n",
    "            if line.strip() == '':\n",
    "                if len(sentence_tokens) > 0:\n",
    "                    sentences.append({'text': sentence_tokens, 'tags': sentence_tags})\n",
    "                sentence_tokens = []\n",
    "                sentence_tags = []\n",
    "            elif line.startswith('#'): # These are metadata lines we can skip\n",
    "                continue\n",
    "            else:\n",
    "                data = line.strip().split()\n",
    "                sentence_tokens.append(data[1])\n",
    "                sentence_tags.append(data[3])\n",
    "    with open(out_path, 'w') as output_file:\n",
    "        json.dump(sentences, output_file, indent=2)"
   ]
  },
  {
   "cell_type": "code",
   "execution_count": null,
   "metadata": {
    "scrolled": true
   },
   "outputs": [],
   "source": [
    "to_json('UD_English-EWT/en-ud-train.conllu', 'data/pos_train.json')\n",
    "to_json('UD_English-EWT/en-ud-dev.conllu', 'data/pos_devel.json')"
   ]
  }
 ],
 "metadata": {
  "kernelspec": {
   "display_name": "Python 3",
   "language": "python",
   "name": "python3"
  },
  "language_info": {
   "codemirror_mode": {
    "name": "ipython",
    "version": 3
   },
   "file_extension": ".py",
   "mimetype": "text/x-python",
   "name": "python",
   "nbconvert_exporter": "python",
   "pygments_lexer": "ipython3",
   "version": "3.6.4"
  }
 },
 "nbformat": 4,
 "nbformat_minor": 2
}
