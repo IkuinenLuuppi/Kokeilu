{
 "cells": [
  {
   "cell_type": "code",
   "execution_count": 2,
   "metadata": {},
   "outputs": [
    {
     "name": "stdout",
     "output_type": "stream",
     "text": [
      "{'class': 'neg', 'text': \"I've seen this film several times in a variety of short-film festivals and it always causes me the impression that i have seen a movie trailer!   For a school-film is very well produced and directed, but the story... well it needed something else to be a bigger and interesting film. The character named Tim Watcher needed some in-dept approach. This is something that lacks in some Portuguese short films - the script is always superficial.  But still... i liked this movie...  Parabens! (congratulations!)\"}\n"
     ]
    }
   ],
   "source": [
    "import json\n",
    "import random\n",
    "with open(\"C:/Users/simok/Deep_learning_in_LangTech_course/data/imdb_train.json\") as f:\n",
    "    data=json.load(f)\n",
    "random.shuffle(data)\n",
    "print(data[0])\n"
   ]
  },
  {
   "cell_type": "code",
   "execution_count": 3,
   "metadata": {},
   "outputs": [
    {
     "name": "stdout",
     "output_type": "stream",
     "text": [
      "[\"I've seen this film several times in a variety of short-film festivals and it always causes me the impression that i have seen a movie trailer!   For a school-film is very well produced and directed, but the story... well it needed something else to be a bigger and interesting film. The character named Tim Watcher needed some in-dept approach. This is something that lacks in some Portuguese short films - the script is always superficial.  But still... i liked this movie...  Parabens! (congratulations!)\"]\n",
      "['neg']\n"
     ]
    }
   ],
   "source": [
    "texts=[one_example[\"text\"] for one_example in data]\n",
    "labels=[one_example[\"class\"] for one_example in data]\n",
    "print(texts[:1])\n",
    "print(labels[:1])\n"
   ]
  },
  {
   "cell_type": "code",
   "execution_count": 6,
   "metadata": {
    "scrolled": false
   },
   "outputs": [
    {
     "ename": "ModuleNotFoundError",
     "evalue": "No module named 'scipy'",
     "output_type": "error",
     "traceback": [
      "\u001b[1;31m---------------------------------------------------------------------------\u001b[0m",
      "\u001b[1;31mModuleNotFoundError\u001b[0m                       Traceback (most recent call last)",
      "\u001b[1;32m<ipython-input-6-9e4aac315988>\u001b[0m in \u001b[0;36m<module>\u001b[1;34m()\u001b[0m\n\u001b[1;32m----> 1\u001b[1;33m \u001b[1;32mfrom\u001b[0m \u001b[0msklearn\u001b[0m\u001b[1;33m.\u001b[0m\u001b[0mfeature_extraction\u001b[0m\u001b[1;33m.\u001b[0m\u001b[0mtext\u001b[0m \u001b[1;32mimport\u001b[0m \u001b[0mCountVectorizer\u001b[0m\u001b[1;33m\u001b[0m\u001b[0m\n\u001b[0m\u001b[0;32m      2\u001b[0m \u001b[1;32mimport\u001b[0m \u001b[0mnumpy\u001b[0m\u001b[1;33m\u001b[0m\u001b[0m\n\u001b[0;32m      3\u001b[0m \u001b[0manalyzer\u001b[0m\u001b[1;33m=\u001b[0m\u001b[0mCountVectorizer\u001b[0m\u001b[1;33m(\u001b[0m\u001b[0mlowercase\u001b[0m\u001b[1;33m=\u001b[0m\u001b[1;32mTrue\u001b[0m\u001b[1;33m)\u001b[0m\u001b[1;33m.\u001b[0m\u001b[0mbuild_analyzer\u001b[0m\u001b[1;33m(\u001b[0m\u001b[1;33m)\u001b[0m \u001b[1;31m# includes tokenizer and preprocessing\u001b[0m\u001b[1;33m\u001b[0m\u001b[0m\n\u001b[0;32m      4\u001b[0m \u001b[1;32mwith\u001b[0m \u001b[0mopen\u001b[0m\u001b[1;33m(\u001b[0m\u001b[1;34m\"imdb_harj.txt\"\u001b[0m\u001b[1;33m,\u001b[0m \u001b[1;34m\"wt\"\u001b[0m\u001b[1;33m)\u001b[0m \u001b[1;32mas\u001b[0m \u001b[0mf\u001b[0m\u001b[1;33m:\u001b[0m\u001b[1;33m\u001b[0m\u001b[0m\n\u001b[0;32m      5\u001b[0m     \u001b[1;32mfor\u001b[0m \u001b[0mtext\u001b[0m \u001b[1;32min\u001b[0m \u001b[0mtexts\u001b[0m\u001b[1;33m:\u001b[0m\u001b[1;33m\u001b[0m\u001b[0m\n",
      "\u001b[1;32mc:\\users\\simok\\appdata\\local\\programs\\python\\python36-32\\lib\\site-packages\\sklearn\\__init__.py\u001b[0m in \u001b[0;36m<module>\u001b[1;34m()\u001b[0m\n\u001b[0;32m    132\u001b[0m \u001b[1;32melse\u001b[0m\u001b[1;33m:\u001b[0m\u001b[1;33m\u001b[0m\u001b[0m\n\u001b[0;32m    133\u001b[0m     \u001b[1;32mfrom\u001b[0m \u001b[1;33m.\u001b[0m \u001b[1;32mimport\u001b[0m \u001b[0m__check_build\u001b[0m\u001b[1;33m\u001b[0m\u001b[0m\n\u001b[1;32m--> 134\u001b[1;33m     \u001b[1;32mfrom\u001b[0m \u001b[1;33m.\u001b[0m\u001b[0mbase\u001b[0m \u001b[1;32mimport\u001b[0m \u001b[0mclone\u001b[0m\u001b[1;33m\u001b[0m\u001b[0m\n\u001b[0m\u001b[0;32m    135\u001b[0m     \u001b[0m__check_build\u001b[0m  \u001b[1;31m# avoid flakes unused variable error\u001b[0m\u001b[1;33m\u001b[0m\u001b[0m\n\u001b[0;32m    136\u001b[0m \u001b[1;33m\u001b[0m\u001b[0m\n",
      "\u001b[1;32mc:\\users\\simok\\appdata\\local\\programs\\python\\python36-32\\lib\\site-packages\\sklearn\\base.py\u001b[0m in \u001b[0;36m<module>\u001b[1;34m()\u001b[0m\n\u001b[0;32m      9\u001b[0m \u001b[1;33m\u001b[0m\u001b[0m\n\u001b[0;32m     10\u001b[0m \u001b[1;32mimport\u001b[0m \u001b[0mnumpy\u001b[0m \u001b[1;32mas\u001b[0m \u001b[0mnp\u001b[0m\u001b[1;33m\u001b[0m\u001b[0m\n\u001b[1;32m---> 11\u001b[1;33m \u001b[1;32mfrom\u001b[0m \u001b[0mscipy\u001b[0m \u001b[1;32mimport\u001b[0m \u001b[0msparse\u001b[0m\u001b[1;33m\u001b[0m\u001b[0m\n\u001b[0m\u001b[0;32m     12\u001b[0m \u001b[1;32mfrom\u001b[0m \u001b[1;33m.\u001b[0m\u001b[0mexternals\u001b[0m \u001b[1;32mimport\u001b[0m \u001b[0msix\u001b[0m\u001b[1;33m\u001b[0m\u001b[0m\n\u001b[0;32m     13\u001b[0m \u001b[1;32mfrom\u001b[0m \u001b[1;33m.\u001b[0m\u001b[0mutils\u001b[0m\u001b[1;33m.\u001b[0m\u001b[0mfixes\u001b[0m \u001b[1;32mimport\u001b[0m \u001b[0msignature\u001b[0m\u001b[1;33m\u001b[0m\u001b[0m\n",
      "\u001b[1;31mModuleNotFoundError\u001b[0m: No module named 'scipy'"
     ]
    }
   ],
   "source": [
    "from sklearn.feature_extraction.text import CountVectorizer\n",
    "import numpy\n",
    "analyzer=CountVectorizer(lowercase=True).build_analyzer() # includes tokenizer and preprocessing\n",
    "with open(\"imdb_harj.txt\", \"wt\") as f:\n",
    "    for text in texts:\n",
    "        words=analyzer(text)\n",
    "        doc=\" \".join(words)\n",
    "print(doc,file=f)"
   ]
  },
  {
   "cell_type": "code",
   "execution_count": null,
   "metadata": {},
   "outputs": [],
   "source": [
    "#sen jälkeen terminaalissa (avaa uusi täbi, cntrl+shift t):  git clone https://github.com/tmikolov/word2vec.git\n",
    "#terminaalissa word2vec sisällä: make\n",
    "#./word2vec\n",
    "#esimerkki: ./word2vec -train ../imdb_harj.txt -output vec.txt -size 200 -window 5 -sample 1e-4 -negative 5 -hs 0 -binary 0 -cbow 1\n",
    "#sen jälkeen jupyteriin: w2v similarity kokeilut"
   ]
  },
  {
   "cell_type": "code",
   "execution_count": null,
   "metadata": {},
   "outputs": [],
   "source": [
    "from gensim.models import KeyedVectors\n",
    "model=KeyedVectors.load_word2vec_format(\"word2vec/vec.txt\", binary=False, limit=50000)\n",
    "\n",
    "print(\"Most similar words for 'funny':\")\n",
    "print(model.most_similar(\"funny\",topn=10))\n",
    "\n",
    "print(\"Similarity of 'bad' and 'horrible':\")\n",
    "print(model.similarity(\"bad\", \"horrible\"))\n",
    "\n",
    "print(\"Similarity of 'bad' and 'excellent':\")\n",
    "print(model.similarity(\"bad\", \"excellent\"))\n",
    "\n",
    "print(\"Similarity of 'actor' and 'actress':\")\n",
    "print(model.similarity(\"actor\", \"actress\"))\n",
    "\n",
    "print(\"Most similar words for 'boring':\")\n",
    "print(model.most_similar(\"boring\",topn=15))\n"
   ]
  },
  {
   "cell_type": "code",
   "execution_count": null,
   "metadata": {},
   "outputs": [],
   "source": [
    "import numpy\n",
    "import os\n",
    "import matplotlib.pyplot as plt\n",
    "import matplotlib.patheffects as path_effects\n",
    "\n",
    "numpy.save(\"vectors_in.npy\",model.vectors[:1000,:]) # save vectors for a file\n",
    "\n",
    "# run tsne locally, input is an embedding matrix, output is an embedding matrix with reduced dimensions\n",
    "os.system(\"python3 bhtsne_wrapper.py --input vectors_in.npy --output vectors_out.npy\")\n",
    "\n",
    "m2d=numpy.load(\"vectors_out.npy\") # read new vectors from a file\n",
    "\n",
    "# plot\n",
    "fig, ax = plt.subplots(figsize=(50, 50), dpi=250)\n",
    "plt.scatter(m2d[:1000,0],m2d[:1000,1],marker=\",\",color=\"gray\")\n",
    "words=[(k,w.index) for k,w in model.vocab.items()][:1000] # read words from the embedding model\n",
    "words=[w for w,i in sorted(words, key=lambda x:x[1])] # sort based on the index to make sure the order is correct\n",
    "print(words[:50])\n",
    "\n",
    "for i,(v,w) in enumerate(zip(m2d,words)):\n",
    "    if i%2!=0:\n",
    "        continue\n",
    "    txt=plt.text(v[0],v[1],w,size=30,ha=\"center\",va=\"center\",color=\"black\")\n",
    "    txt.set_path_effects([path_effects.Stroke(linewidth=1, foreground='black'),\n",
    "                   path_effects.Normal()])\n",
    "\n",
    "plt.show()"
   ]
  }
 ],
 "metadata": {
  "kernelspec": {
   "display_name": "Python 3",
   "language": "python",
   "name": "python3"
  },
  "language_info": {
   "codemirror_mode": {
    "name": "ipython",
    "version": 3
   },
   "file_extension": ".py",
   "mimetype": "text/x-python",
   "name": "python",
   "nbconvert_exporter": "python",
   "pygments_lexer": "ipython3",
   "version": "3.6.5"
  }
 },
 "nbformat": 4,
 "nbformat_minor": 2
}
