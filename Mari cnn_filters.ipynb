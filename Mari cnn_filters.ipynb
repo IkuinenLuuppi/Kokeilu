{
 "cells": [
  {
   "cell_type": "markdown",
   "metadata": {
    "scrolled": true
   },
   "source": [
    "# Interpreting Convolutional Kernels\n",
    "\n",
    "This example shows how to analyze kernel activations for given input texts or with hypothetical word sequences.\n",
    "The example is based on our previous IMDB movie review sentiment classification notes. The relevant information starts from the NN model definition, reading the data and pretrained word embeddings is identical/similar to what we have seen previously.\n",
    "\n",
    "### Read data"
   ]
  },
  {
   "cell_type": "code",
   "execution_count": 2,
   "metadata": {},
   "outputs": [
    {
     "name": "stdout",
     "output_type": "stream",
     "text": [
      "{'text': '&#2;\\n******CHEMICAL BANK CUTS PRIME RATE TO 9.25 PCT FROM 9.75 PCT, EFFECTIVE IMMEDIATELY\\nBlah blah blah.\\n&#3;', 'class': 'interest'}\n",
      "['&#2;\\n******CHEMICAL BANK CUTS PRIME RATE TO 9.25 PCT FROM 9.75 PCT, EFFECTIVE IMMEDIATELY\\nBlah blah blah.\\n&#3;', '&#2;\\nUNICORP CANADA&lt;UNI.A> CUTS PUROLATOR&lt;PCC> STAKE\\nWASHINGTON, March 4 - Unicorp Canada Corp told the\\nSecurities and Exchange Commission it cut its stake in\\nPurolator Courier Corp to 286,500 shares, or 3.7 pct of the\\ntotal outstanding, from 962,400 shares, or 12.4 pct.\\nUnicorp, a management and investment holding company\\ncontrolled by its chairman, George Mann, said it sold 675,900\\nPurolator common shares on March 2 and 3 at 34.782 and 34.750\\ndlrs a share.\\nPurolator agreed this past weekend to be acquired by\\nmanagers of its U.S. courier business and E.F. Hutton LBO Inc\\nin a leveraged buyout valued at 265 mln dlrs.\\nReuter\\n&#3;']\n",
      "['interest', 'acq']\n"
     ]
    }
   ],
   "source": [
    "import json\n",
    "import random\n",
    "with open(\"data/reuters_51cls.json\") as f: #muutettu imdb --> reuters (ei taida toimia)\n",
    "    data=json.load(f)\n",
    "random.shuffle(data) \n",
    "print(data[0])\n",
    "\n",
    "# We need to gather the texts, into a list\n",
    "texts=[one_example[\"text\"] for one_example in data]\n",
    "labels=[one_example[\"class\"] for one_example in data]\n",
    "print(texts[:2])\n",
    "print(labels[:2])"
   ]
  },
  {
   "cell_type": "markdown",
   "metadata": {},
   "source": [
    "### Use gensim to read the embedding model"
   ]
  },
  {
   "cell_type": "code",
   "execution_count": 3,
   "metadata": {
    "scrolled": true
   },
   "outputs": [
    {
     "name": "stdout",
     "output_type": "stream",
     "text": [
      "Words from embedding model: 20000\n",
      "First 50 words: [',', 'the', '.', 'and', 'of', 'to', 'in', 'a', '\"', ':', ')', 'that', '(', 'is', 'for', 'on', '*', 'with', 'as', 'it', 'The', 'or', 'was', \"'\", \"'s\", 'by', 'from', 'at', 'I', 'this', 'you', '/', 'are', '=', 'not', '-', 'have', '?', 'be', 'which', ';', 'all', 'his', 'has', 'one', 'their', 'about', 'but', 'an', '|']\n"
     ]
    }
   ],
   "source": [
    "from gensim.models import KeyedVectors\n",
    "\n",
    "vector_model=KeyedVectors.load_word2vec_format(\"/home/bio/wiki-news-300d-1M.vec\", binary=False, limit=20000)\n",
    "#(muokattu: ennen \"/data/wiki..\")\n",
    "\n",
    "# sort based on the index to make sure they are in the correct order\n",
    "words=[k for k,v in sorted(vector_model.vocab.items(), key=lambda x:x[1].index)]\n",
    "print(\"Words from embedding model:\",len(words))\n",
    "print(\"First 50 words:\",words[:50])"
   ]
  },
  {
   "cell_type": "markdown",
   "metadata": {},
   "source": [
    "### Normalize the vectors\n",
    "\n",
    "- Easier to learn on top of these vectors when the magnitude does not vary much"
   ]
  },
  {
   "cell_type": "code",
   "execution_count": 4,
   "metadata": {},
   "outputs": [
    {
     "name": "stdout",
     "output_type": "stream",
     "text": [
      "Before normalization: [-0.0234 -0.0268 -0.0838  0.0386 -0.0321  0.0628  0.0281 -0.0252  0.0269\n",
      " -0.0063]\n",
      "After normalization: [-0.0163762  -0.01875564 -0.05864638  0.02701372 -0.02246478  0.04394979\n",
      "  0.01966543 -0.0176359   0.01882563 -0.00440898]\n"
     ]
    }
   ],
   "source": [
    "print(\"Before normalization:\",vector_model.get_vector(\"in\")[:10])\n",
    "vector_model.init_sims(replace=True)\n",
    "print(\"After normalization:\",vector_model.get_vector(\"in\")[:10])"
   ]
  },
  {
   "cell_type": "markdown",
   "metadata": {},
   "source": [
    "### Text analyzer and vectorizer\n",
    "\n",
    "- When we use an embedding layer (keras.layers.Embedding) the input data must be a sequence, not a bag-of-words vector\n",
    "- You can use CountVectorizer only as an analyzer without building the feature matrix\n",
    "- We will then build the vectorizer part later ourselves"
   ]
  },
  {
   "cell_type": "code",
   "execution_count": 5,
   "metadata": {},
   "outputs": [
    {
     "name": "stdout",
     "output_type": "stream",
     "text": [
      "['CHEMICAL', 'BANK', 'CUTS', 'PRIME', 'RATE', 'TO', '25', 'PCT', 'FROM', '75', 'PCT', 'EFFECTIVE', 'IMMEDIATELY', 'Blah', 'blah', 'blah']\n"
     ]
    }
   ],
   "source": [
    "from sklearn.feature_extraction.text import CountVectorizer\n",
    "import numpy\n",
    "analyzer=CountVectorizer(lowercase=False).build_analyzer() # includes tokenizer and preprocessing\n",
    "print(analyzer(texts[0]))\n",
    "\n"
   ]
  },
  {
   "cell_type": "markdown",
   "metadata": {},
   "source": [
    "### Expand the vocabulary using words from the embedding model\n",
    "\n",
    "- The embedding model usually knows more words than the task specific model, because it has seen a lot more data\n",
    "- If you wish, you can use the embedding model vocabulary to expand the task specific one"
   ]
  },
  {
   "cell_type": "code",
   "execution_count": 6,
   "metadata": {
    "scrolled": true
   },
   "outputs": [
    {
     "name": "stdout",
     "output_type": "stream",
     "text": [
      "Words from embedding model: 19497\n"
     ]
    }
   ],
   "source": [
    "# init the vectorizer vocabulary using words from the embedding model\n",
    "def init_vocabulary(vocab, text, text_analyzer):\n",
    "    for word in analyzer(text):\n",
    "        # Only use pretrained vocabulary\n",
    "        if word in vector_model.vocab:\n",
    "            vocab.setdefault(word, len(vocab))\n",
    "    return vocab\n",
    "\n",
    "words_from_model=\" \".join(words[:20000]) # use 20K words from the embedding model to initialize the vocabulary --> expands the learned vocabulary\n",
    "vocabulary={\"<SPECIAL>\": 0} # zero has a special meaning in sequence models, prevent using it for a normal word\n",
    "vocabulary=init_vocabulary(vocabulary, words_from_model, analyzer)\n",
    "print(\"Words from embedding model:\",len(vocabulary))\n"
   ]
  },
  {
   "cell_type": "markdown",
   "metadata": {},
   "source": [
    "### Vectorizer\n",
    "\n",
    "- Build a dictionary to turn words into numbers, here we use the one which we initialized with the embedding model\n",
    "- Vectorizing a sequence: In our data each example is a list of words, we need to turn each example into list of numbers"
   ]
  },
  {
   "cell_type": "code",
   "execution_count": 7,
   "metadata": {},
   "outputs": [
    {
     "name": "stdout",
     "output_type": "stream",
     "text": [
      "Words in vocabulary: 19497\n",
      "Vectorized data shape: (9465,)\n",
      "First example vectorized: [8932, 319, 18599, 3514, 12239, 12239]\n",
      "First example text: ['TO', '25', 'FROM', '75', 'blah', 'blah']\n"
     ]
    }
   ],
   "source": [
    "def vectorizer(vocab, texts):\n",
    "    vectorized_data=[] # turn text into numbers based on our vocabulary mapping\n",
    "    for one_example in texts:\n",
    "        vectorized_example=[]\n",
    "        for word in analyzer(one_example):\n",
    "            # Only use pretrained vocabulary\n",
    "            if word in vector_model.vocab:\n",
    "                vectorized_example.append(vocab[word])\n",
    "            #vocab.setdefault(word, len(vocab)) # add word to our vocabulary if it does not exist\n",
    "            #vectorized_example.append(vocab[word])\n",
    "        vectorized_data.append(vectorized_example)\n",
    "    \n",
    "    vectorized_data=numpy.array(vectorized_data) # turn python list into numpy matrix\n",
    "    return vectorized_data, vocab\n",
    "\n",
    "vectorized_data, vocabulary=vectorizer(vocabulary, texts)\n",
    "\n",
    "# now vectorized data is the same as feature_matrix, but in different format\n",
    "print(\"Words in vocabulary:\",len(vocabulary))\n",
    "print(\"Vectorized data shape:\",vectorized_data.shape)\n",
    "print(\"First example vectorized:\",vectorized_data[0])\n",
    "inversed_vocabulary={value:key for key, value in vocabulary.items()} # inverse the dictionary\n",
    "print(\"First example text:\",[inversed_vocabulary[idx] for idx in vectorized_data[0]])\n",
    "        "
   ]
  },
  {
   "cell_type": "markdown",
   "metadata": {},
   "source": [
    "### Labels into onehot vectors\n",
    "\n",
    "- Same as in the original BOW classifier"
   ]
  },
  {
   "cell_type": "code",
   "execution_count": 8,
   "metadata": {},
   "outputs": [
    {
     "name": "stdout",
     "output_type": "stream",
     "text": [
      "class_numbers shape= (9465,)\n",
      "class_numbers [21  0 11 ... 11 11 14]\n",
      "class labels ['acq' 'alum' 'bop' 'carcass' 'cocoa' 'coffee' 'copper' 'cotton' 'cpi'\n",
      " 'crude' 'dlr' 'earn' 'fuel' 'gas' 'gnp' 'gold' 'grain' 'heat' 'housing'\n",
      " 'income' 'instal-debt' 'interest' 'ipi' 'iron-steel' 'jobs' 'lead' 'lei'\n",
      " 'livestock' 'lumber' 'meal-feed' 'money-fx' 'money-supply' 'nat-gas'\n",
      " 'oilseed' 'orange' 'pet-chem' 'potato' 'reserves' 'retail' 'rubber'\n",
      " 'ship' 'silver' 'strategic-metal' 'sugar' 'tea' 'tin' 'trade' 'veg-oil'\n",
      " 'wpi' 'yen' 'zinc']\n",
      "classes_1hot [[0. 0. 0. ... 0. 0. 0.]\n",
      " [1. 0. 0. ... 0. 0. 0.]\n",
      " [0. 0. 0. ... 0. 0. 0.]\n",
      " ...\n",
      " [0. 0. 0. ... 0. 0. 0.]\n",
      " [0. 0. 0. ... 0. 0. 0.]\n",
      " [0. 0. 0. ... 0. 0. 0.]]\n"
     ]
    }
   ],
   "source": [
    "from sklearn.preprocessing import LabelEncoder, OneHotEncoder\n",
    "\n",
    "label_encoder=LabelEncoder() #Turns class labels into integers\n",
    "one_hot_encoder=OneHotEncoder(sparse=False) #Turns class integers into one-hot encoding\n",
    "class_numbers=label_encoder.fit_transform(labels)\n",
    "print(\"class_numbers shape=\",class_numbers.shape)\n",
    "print(\"class_numbers\",class_numbers)\n",
    "print(\"class labels\",label_encoder.classes_)\n",
    "#And now yet the one-hot encoding\n",
    "classes_1hot=one_hot_encoder.fit_transform(class_numbers.reshape(-1,1))\n",
    "print(\"classes_1hot\",classes_1hot)\n"
   ]
  },
  {
   "cell_type": "markdown",
   "metadata": {},
   "source": [
    "## Network\n",
    "\n",
    "- First we need to create an embedding matrix which we can then plug into the neural network\n",
    "- The embedding matrix must follow the order from the vectorizer"
   ]
  },
  {
   "cell_type": "code",
   "execution_count": 9,
   "metadata": {},
   "outputs": [
    {
     "name": "stdout",
     "output_type": "stream",
     "text": [
      "Found pretrained vectors for 19496 words.\n",
      "Shape of pretrained embeddings: (19497, 300)\n",
      "Vector for the word 'in': [-0.0163762  -0.01875564 -0.05864638  0.02701372 -0.02246478  0.04394979\n",
      "  0.01966543 -0.0176359   0.01882563 -0.00440898]\n"
     ]
    }
   ],
   "source": [
    "def load_pretrained_embeddings(vocab, embedding_model):\n",
    "    \"\"\" vocab: vocabulary from our data vectorizer, embedding_model: model loaded with gensim \"\"\"\n",
    "    pretrained_embeddings=numpy.random.uniform(low=-0.05, high=0.05, size=(len(vocab),embedding_model.vectors.shape[1])) # initialize new matrix (words x embedding dim)\n",
    "    found=0\n",
    "    for word,idx in vocab.items():\n",
    "        if word in embedding_model.vocab:\n",
    "            pretrained_embeddings[idx]=embedding_model.get_vector(word)\n",
    "            found+=1\n",
    "            \n",
    "    print(\"Found pretrained vectors for {found} words.\".format(found=found))\n",
    "    return pretrained_embeddings\n",
    "\n",
    "pretrained=load_pretrained_embeddings(vocabulary, vector_model)\n",
    "print(\"Shape of pretrained embeddings:\",pretrained.shape)\n",
    "print(\"Vector for the word 'in':\",pretrained[vocabulary[\"in\"]][:10])\n"
   ]
  },
  {
   "cell_type": "markdown",
   "metadata": {
    "scrolled": true
   },
   "source": [
    "### Sequential input\n",
    "\n",
    "- Remember how the shape of the input data matrix had undefined number of columns\n",
    "- Now we must make it into fixed size (same for each example)\n",
    "- Padding: include zeros until you reach the correct size\n",
    "- You will hear more about this next week!"
   ]
  },
  {
   "cell_type": "code",
   "execution_count": 10,
   "metadata": {},
   "outputs": [
    {
     "name": "stderr",
     "output_type": "stream",
     "text": [
      "/home/marsalv/.local/lib64/python3.6/site-packages/h5py/__init__.py:36: FutureWarning: Conversion of the second argument of issubdtype from `float` to `np.floating` is deprecated. In future, it will be treated as `np.float64 == np.dtype(float).type`.\n",
      "  from ._conv import register_converters as _register_converters\n",
      "Using TensorFlow backend.\n"
     ]
    },
    {
     "name": "stdout",
     "output_type": "stream",
     "text": [
      "Old shape: (9465,)\n",
      "New shape: (9465, 970)\n",
      "First example: [ 8932   319 18599  3514 12239 12239     0     0     0     0     0     0\n",
      "     0     0     0     0     0     0     0     0     0     0     0     0\n",
      "     0     0     0     0     0     0     0     0     0     0     0     0\n",
      "     0     0     0     0     0     0     0     0     0     0     0     0\n",
      "     0     0     0     0     0     0     0     0     0     0     0     0\n",
      "     0     0     0     0     0     0     0     0     0     0     0     0\n",
      "     0     0     0     0     0     0     0     0     0     0     0     0\n",
      "     0     0     0     0     0     0     0     0     0     0     0     0\n",
      "     0     0     0     0     0     0     0     0     0     0     0     0\n",
      "     0     0     0     0     0     0     0     0     0     0     0     0\n",
      "     0     0     0     0     0     0     0     0     0     0     0     0\n",
      "     0     0     0     0     0     0     0     0     0     0     0     0\n",
      "     0     0     0     0     0     0     0     0     0     0     0     0\n",
      "     0     0     0     0     0     0     0     0     0     0     0     0\n",
      "     0     0     0     0     0     0     0     0     0     0     0     0\n",
      "     0     0     0     0     0     0     0     0     0     0     0     0\n",
      "     0     0     0     0     0     0     0     0     0     0     0     0\n",
      "     0     0     0     0     0     0     0     0     0     0     0     0\n",
      "     0     0     0     0     0     0     0     0     0     0     0     0\n",
      "     0     0     0     0     0     0     0     0     0     0     0     0\n",
      "     0     0     0     0     0     0     0     0     0     0     0     0\n",
      "     0     0     0     0     0     0     0     0     0     0     0     0\n",
      "     0     0     0     0     0     0     0     0     0     0     0     0\n",
      "     0     0     0     0     0     0     0     0     0     0     0     0\n",
      "     0     0     0     0     0     0     0     0     0     0     0     0\n",
      "     0     0     0     0     0     0     0     0     0     0     0     0\n",
      "     0     0     0     0     0     0     0     0     0     0     0     0\n",
      "     0     0     0     0     0     0     0     0     0     0     0     0\n",
      "     0     0     0     0     0     0     0     0     0     0     0     0\n",
      "     0     0     0     0     0     0     0     0     0     0     0     0\n",
      "     0     0     0     0     0     0     0     0     0     0     0     0\n",
      "     0     0     0     0     0     0     0     0     0     0     0     0\n",
      "     0     0     0     0     0     0     0     0     0     0     0     0\n",
      "     0     0     0     0     0     0     0     0     0     0     0     0\n",
      "     0     0     0     0     0     0     0     0     0     0     0     0\n",
      "     0     0     0     0     0     0     0     0     0     0     0     0\n",
      "     0     0     0     0     0     0     0     0     0     0     0     0\n",
      "     0     0     0     0     0     0     0     0     0     0     0     0\n",
      "     0     0     0     0     0     0     0     0     0     0     0     0\n",
      "     0     0     0     0     0     0     0     0     0     0     0     0\n",
      "     0     0     0     0     0     0     0     0     0     0     0     0\n",
      "     0     0     0     0     0     0     0     0     0     0     0     0\n",
      "     0     0     0     0     0     0     0     0     0     0     0     0\n",
      "     0     0     0     0     0     0     0     0     0     0     0     0\n",
      "     0     0     0     0     0     0     0     0     0     0     0     0\n",
      "     0     0     0     0     0     0     0     0     0     0     0     0\n",
      "     0     0     0     0     0     0     0     0     0     0     0     0\n",
      "     0     0     0     0     0     0     0     0     0     0     0     0\n",
      "     0     0     0     0     0     0     0     0     0     0     0     0\n",
      "     0     0     0     0     0     0     0     0     0     0     0     0\n",
      "     0     0     0     0     0     0     0     0     0     0     0     0\n",
      "     0     0     0     0     0     0     0     0     0     0     0     0\n",
      "     0     0     0     0     0     0     0     0     0     0     0     0\n",
      "     0     0     0     0     0     0     0     0     0     0     0     0\n",
      "     0     0     0     0     0     0     0     0     0     0     0     0\n",
      "     0     0     0     0     0     0     0     0     0     0     0     0\n",
      "     0     0     0     0     0     0     0     0     0     0     0     0\n",
      "     0     0     0     0     0     0     0     0     0     0     0     0\n",
      "     0     0     0     0     0     0     0     0     0     0     0     0\n",
      "     0     0     0     0     0     0     0     0     0     0     0     0\n",
      "     0     0     0     0     0     0     0     0     0     0     0     0\n",
      "     0     0     0     0     0     0     0     0     0     0     0     0\n",
      "     0     0     0     0     0     0     0     0     0     0     0     0\n",
      "     0     0     0     0     0     0     0     0     0     0     0     0\n",
      "     0     0     0     0     0     0     0     0     0     0     0     0\n",
      "     0     0     0     0     0     0     0     0     0     0     0     0\n",
      "     0     0     0     0     0     0     0     0     0     0     0     0\n",
      "     0     0     0     0     0     0     0     0     0     0     0     0\n",
      "     0     0     0     0     0     0     0     0     0     0     0     0\n",
      "     0     0     0     0     0     0     0     0     0     0     0     0\n",
      "     0     0     0     0     0     0     0     0     0     0     0     0\n",
      "     0     0     0     0     0     0     0     0     0     0     0     0\n",
      "     0     0     0     0     0     0     0     0     0     0     0     0\n",
      "     0     0     0     0     0     0     0     0     0     0     0     0\n",
      "     0     0     0     0     0     0     0     0     0     0     0     0\n",
      "     0     0     0     0     0     0     0     0     0     0     0     0\n",
      "     0     0     0     0     0     0     0     0     0     0     0     0\n",
      "     0     0     0     0     0     0     0     0     0     0     0     0\n",
      "     0     0     0     0     0     0     0     0     0     0     0     0\n",
      "     0     0     0     0     0     0     0     0     0     0     0     0\n",
      "     0     0     0     0     0     0     0     0     0     0]\n"
     ]
    }
   ],
   "source": [
    "import tensorflow as tf\n",
    "### Only needed for me, not to block the whole GPU, you don't need this stuff\n",
    "from keras.backend.tensorflow_backend import set_session\n",
    "config = tf.ConfigProto()\n",
    "config.gpu_options.per_process_gpu_memory_fraction = 0.3\n",
    "set_session(tf.Session(config=config))\n",
    "### ---end of weird stuff\n",
    "\n",
    "from keras.preprocessing.sequence import pad_sequences\n",
    "print(\"Old shape:\", vectorized_data.shape)\n",
    "vectorized_data_padded=pad_sequences(vectorized_data, padding='post')\n",
    "print(\"New shape:\", vectorized_data_padded.shape)\n",
    "print(\"First example:\", vectorized_data_padded[0])"
   ]
  },
  {
   "cell_type": "markdown",
   "metadata": {},
   "source": [
    "A simple network with a single convolutional layer with window size of 2 words (bigrams), 50 kernels and global max pooling (only the maximum value from each kernel is preserved). We create a separate model with the CNN layer as the output. This model shares weights with the actual model and can be used in analysing the kernel activations in each time step."
   ]
  },
  {
   "cell_type": "code",
   "execution_count": 12,
   "metadata": {
    "scrolled": false
   },
   "outputs": [
    {
     "name": "stdout",
     "output_type": "stream",
     "text": [
      "_________________________________________________________________\n",
      "Layer (type)                 Output Shape              Param #   \n",
      "=================================================================\n",
      "input_2 (InputLayer)         (None, 970)               0         \n",
      "_________________________________________________________________\n",
      "embedding_2 (Embedding)      (None, 970, 300)          5849100   \n",
      "_________________________________________________________________\n",
      "conv1d_2 (Conv1D)            (None, 969, 20)           12020     \n",
      "_________________________________________________________________\n",
      "global_max_pooling1d_2 (Glob (None, 20)                0         \n",
      "_________________________________________________________________\n",
      "dense_2 (Dense)              (None, 51)                1071      \n",
      "=================================================================\n",
      "Total params: 5,862,191\n",
      "Trainable params: 13,091\n",
      "Non-trainable params: 5,849,100\n",
      "_________________________________________________________________\n",
      "None\n",
      "Train on 8518 samples, validate on 947 samples\n",
      "Epoch 1/6\n",
      "8518/8518 [==============================] - 63s 7ms/step - loss: 2.4151 - acc: 0.4631 - val_loss: 1.7932 - val_acc: 0.5649\n",
      "Epoch 2/6\n",
      "8518/8518 [==============================] - 64s 8ms/step - loss: 1.5877 - acc: 0.5836 - val_loss: 1.5213 - val_acc: 0.6135\n",
      "Epoch 3/6\n",
      "8518/8518 [==============================] - 66s 8ms/step - loss: 1.3304 - acc: 0.6807 - val_loss: 1.3307 - val_acc: 0.7001\n",
      "Epoch 4/6\n",
      "8518/8518 [==============================] - 69s 8ms/step - loss: 1.1557 - acc: 0.7290 - val_loss: 1.2133 - val_acc: 0.7128\n",
      "Epoch 5/6\n",
      "8518/8518 [==============================] - 69s 8ms/step - loss: 1.0440 - acc: 0.7461 - val_loss: 1.1370 - val_acc: 0.7202\n",
      "Epoch 6/6\n",
      "8518/8518 [==============================] - 64s 8ms/step - loss: 0.9680 - acc: 0.7591 - val_loss: 1.0830 - val_acc: 0.7360\n"
     ]
    }
   ],
   "source": [
    "from keras.models import Model\n",
    "from keras.layers import Input, Dense, Embedding, Activation, Conv1D, GlobalMaxPooling1D\n",
    "from keras import backend as K\n",
    "from keras.layers.core import Lambda\n",
    "from keras.optimizers import SGD, Adam\n",
    "\n",
    "\n",
    "example_count,sequence_len=vectorized_data_padded.shape\n",
    "example_count,class_count=classes_1hot.shape\n",
    "\n",
    "vector_size=pretrained.shape[1] # embedding dim (\"hidden layer\") must be the same as in the pretrained model\n",
    "kernels = 20\n",
    "window_size = 2 # How many words a kernel sees at a time\n",
    "\n",
    "inp=Input(shape=(sequence_len,))\n",
    "embeddings=Embedding(len(vocabulary), vector_size, mask_zero=False, weights=[pretrained], trainable=False)(inp)\n",
    "cnn = Conv1D(kernels,window_size,padding='valid',activation='relu',strides=1)(embeddings)\n",
    "pooling = GlobalMaxPooling1D()(cnn)\n",
    "outp=Dense(class_count, activation=\"softmax\")(pooling)\n",
    "model=Model(inputs=[inp], outputs=[outp])\n",
    "\n",
    "optimizer=Adam(lr=0.001) # define the learning rate\n",
    "model.compile(optimizer=optimizer,loss=\"categorical_crossentropy\",metrics=['accuracy'])\n",
    "\n",
    "# This is our model for outputting the time step wise kernel activations.\n",
    "cnn_out_model=Model(inputs=[inp], outputs=[cnn])\n",
    "# We have to compile the model, but we nerver train it directly\n",
    "cnn_out_model.compile(optimizer=\"adam\",loss=\"categorical_crossentropy\",metrics=['accuracy'])\n",
    "\n",
    "print(model.summary())\n",
    "\n",
    "# train\n",
    "hist=model.fit(vectorized_data_padded,classes_1hot,batch_size=50,verbose=1,epochs=6,validation_split=0.1)"
   ]
  },
  {
   "cell_type": "markdown",
   "metadata": {},
   "source": [
    "Things to note:\n",
    "1. We are using ReLU activation as it simplifies our life\n",
    "2. The word embeddings are now fixed, i.e. the training algorithm is not allowed to change the pretrained embeddings"
   ]
  },
  {
   "cell_type": "code",
   "execution_count": 13,
   "metadata": {
    "scrolled": false
   },
   "outputs": [
    {
     "name": "stdout",
     "output_type": "stream",
     "text": [
      "History: [0.5649419268307992, 0.6135163749032186, 0.7001056020967308, 0.7127771916963482, 0.7201689624610144, 0.7360084515061021]\n",
      "Max accuracy: 0.7360084515061021\n"
     ]
    },
    {
     "data": {
      "image/png": "[encoded data removed]",
      "text/plain": [
       "<Figure size 432x288 with 1 Axes>"
      ]
     },
     "metadata": {},
     "output_type": "display_data"
    }
   ],
   "source": [
    "%matplotlib inline\n",
    "import matplotlib.pyplot as plt\n",
    "print(\"History:\",hist.history[\"val_acc\"])\n",
    "print(\"Max accuracy:\",numpy.max(hist.history[\"val_acc\"]))\n",
    "plt.ylim(0.50,1.0)\n",
    "plt.plot(hist.history[\"val_acc\"],label=\"Validation set accuracy\")\n",
    "plt.plot(hist.history[\"acc\"],label=\"Training set accuracy\")\n",
    "plt.legend()\n",
    "plt.show()"
   ]
  },
  {
   "cell_type": "markdown",
   "metadata": {},
   "source": [
    "Lets make predictions for the whole training and validation data to see what type of bigrams each kernel has learnt to recognize."
   ]
  },
  {
   "cell_type": "code",
   "execution_count": 14,
   "metadata": {},
   "outputs": [
    {
     "name": "stdout",
     "output_type": "stream",
     "text": [
      "947/947 [==============================] - 3s 3ms/step\n",
      "Predictions shape: (947, 969, 20)\n"
     ]
    }
   ],
   "source": [
    "input_data = hist.validation_data[0] # Use vectorized_data_padded if you want activations for the training data as well\n",
    "predictions = cnn_out_model.predict(input_data, verbose=1, batch_size=64)\n",
    "print(\"Predictions shape:\", predictions.shape)"
   ]
  },
  {
   "cell_type": "code",
   "execution_count": 15,
   "metadata": {
    "scrolled": false
   },
   "outputs": [
    {
     "name": "stdout",
     "output_type": "stream",
     "text": [
      "Word embeddings from the model: (19497, 300)\n",
      "Kernels: (2, 300, 20)\n",
      "Kernel 0:\n",
      "net loss | net loss | net loss | net loss | net loss | net loss | net loss | net loss | net loss | net loss\n",
      "Hypothetical maximum activation 0: net loss [1.7489415 2.5665832] \n",
      "\n",
      "Kernel 1:\n",
      "trade deficit | trade deficit | trade deficit | trade deficit | trade deficit | trade deficit | trade deficit | trade deficit | trade deficit | trade deficit\n",
      "Hypothetical maximum activation 1: trade rates [3.418724  1.9348184] \n",
      "\n",
      "Kernel 2:\n",
      "OF blah | OF blah | OF blah | OF blah | OF blah | OF blah | OF blah | FOR blah | FOR blah | FOR blah\n",
      "Hypothetical maximum activation 2: FOR blah [0.7164392  0.96077096] \n",
      "\n",
      "Kernel 3:\n",
      "the acquisition | the acquisition | the acquisition | the acquisition | the acquisition | the acquisition | the acquisition | the acquisition | the acquisition | the acquisition\n",
      "Hypothetical maximum activation 3: outstanding acquisition [0.79193604 3.0611641 ] \n",
      "\n",
      "Kernel 4:\n",
      "said He | said He | said He | said He | said He | said He | said He | said He | said He | said He\n",
      "Hypothetical maximum activation 4: said He [1.2809348 1.7220732] \n",
      "\n",
      "Kernel 5:\n",
      "record March | record March | record March | record March | record March | record March | record March | record March | record March | record March\n",
      "Hypothetical maximum activation 5: record March [2.1594095  0.72181445] \n",
      "\n",
      "Kernel 6:\n",
      "Group Inc | Group Inc | Group Inc | Group Inc | Group Inc | Group Inc | Group Inc | Group Inc | Group Inc | Group Inc\n",
      "Hypothetical maximum activation 6: Petroleum Inc [1.3775557 3.2680314] \n",
      "\n",
      "Kernel 7:\n",
      "crude oil | crude oil | crude oil | crude oil | crude oil | crude oil | crude oil | crude oil | crude oil | crude oil\n",
      "Hypothetical maximum activation 7: coffee oil [2.0621421 3.7183118] \n",
      "\n",
      "Kernel 8:\n",
      "white sugar | white sugar | white sugar | white sugar | imports sugar | raw sugar | cane sugar | import sugar | industrial sugar | German sugar\n",
      "Hypothetical maximum activation 8: gold sugar [2.4020514 4.5699334] \n",
      "\n",
      "Kernel 9:\n",
      "stock shares | 60 shares | 33 shares | 30 shares | 30 shares | 16 shares | 31 shares | 17 shares | cash shares | remaining shares\n",
      "Hypothetical maximum activation 9: 40 shares [0.78917795 1.4012363 ] \n",
      "\n",
      "Kernel 10:\n",
      "<SPECIAL> <SPECIAL> | <SPECIAL> <SPECIAL> | <SPECIAL> <SPECIAL> | <SPECIAL> <SPECIAL> | <SPECIAL> <SPECIAL> | <SPECIAL> <SPECIAL> | <SPECIAL> <SPECIAL> | <SPECIAL> <SPECIAL> | <SPECIAL> <SPECIAL> | <SPECIAL> <SPECIAL>\n",
      "Hypothetical maximum activation 10: <SPECIAL> <SPECIAL> [0.32878357 0.34195405] \n",
      "\n",
      "Kernel 11:\n",
      "vs 000 | vs 000 | vs 000 | vs 000 | vs 000 | vs 000 | vs 000 | vs 000 | vs 000 | vs 000\n",
      "Hypothetical maximum activation 11: vs 000 [1.9515483 1.272981 ] \n",
      "\n",
      "Kernel 12:\n",
      "it sold | it sold | it sold | it sold | it sold | it sold | it sold | it sold | it sold | it bought\n",
      "Hypothetical maximum activation 12: it sold [1.529038  0.9540558] \n",
      "\n",
      "Kernel 13:\n",
      "March 31 | March 31 | March 31 | March 31 | March 31 | March 31 | March 31 | March 31 | March 31 | March 31\n",
      "Hypothetical maximum activation 13: March 31 [0.7825295  0.82175744] \n",
      "\n",
      "Kernel 14:\n",
      "37 vs | 37 vs | 37 vs | 37 vs | 37 vs | 37 vs | 37 vs | 46 vs | 46 vs | 46 vs\n",
      "Hypothetical maximum activation 14: 42 vs [0.9995268 1.8607804] \n",
      "\n",
      "Kernel 15:\n",
      "000 barrels | 000 barrels | 000 barrels | 000 barrels | 000 barrels | 500 barrels | 50 barrel | 50 barrel | 50 barrel | 50 barrel\n",
      "Hypothetical maximum activation 15: blah barrels [1.1947472 2.0474153] \n",
      "\n",
      "Kernel 16:\n",
      "rate rises | rate blah | rate cuts | rate cuts | rate unchanged | rate shifts | rate increases | rate rollback | rate futures | rate reductions\n",
      "Hypothetical maximum activation 16: rate split [3.558523 1.329798] \n",
      "\n",
      "Kernel 17:\n",
      "per share | per share | per share | per share | per share | per share | per share | per share | per share | per share\n",
      "Hypothetical maximum activation 17: per share [0.973922 2.742912] \n",
      "\n",
      "Kernel 18:\n",
      "government would | government would | government would | government would | legislation would | transaction would | committee would | agreement would | proposal would | transactions would\n",
      "Hypothetical maximum activation 18: government would [1.258998 1.267751] \n",
      "\n",
      "Kernel 19:\n",
      "000 vs | 000 vs | 000 vs | 000 vs | 000 vs | 000 vs | 000 vs | 000 vs | 000 vs | 000 vs\n",
      "Hypothetical maximum activation 19: 000 vs [1.2356659 2.0590339] \n",
      "\n"
     ]
    }
   ],
   "source": [
    "word_embeddings = model.layers[1].get_weights()[0]\n",
    "print(\"Word embeddings from the model:\", word_embeddings.shape)\n",
    "print(\"Kernels:\", model.layers[2].get_weights()[0].shape)\n",
    "for kernel_index in range(model.layers[2].get_weights()[0].shape[-1]):\n",
    "    kernel = model.layers[2].get_weights()[0][:,:,kernel_index] + model.layers[2].get_weights()[1][kernel_index]\n",
    "\n",
    "    # Hypothetical highest activations\n",
    "    activations = numpy.dot(kernel, word_embeddings.T)\n",
    "    best_word_indices = numpy.argmax(activations, axis=-1)\n",
    "    \n",
    "    # Highest activations seen in the validation data\n",
    "    max_time_steps = numpy.argmax(predictions[:,:,kernel_index], axis=-1)\n",
    "    max_activations = numpy.max(predictions[:,:,kernel_index], axis=-1)\n",
    "    best_sentences = numpy.argsort(-max_activations)\n",
    "    \n",
    "    best_ngrams = [input_data[best_sentences[nth]][max_time_steps[best_sentences[nth]]:max_time_steps[best_sentences[nth]]+window_size] for nth in range(10)]\n",
    "    best_ngrams = [' '.join([inversed_vocabulary[i] for i in best]) for best in best_ngrams]\n",
    "    best_ngrams = ' | '.join(best_ngrams)\n",
    " \n",
    "    print('Kernel %s:' % kernel_index)\n",
    "    print(best_ngrams)\n",
    "    print('Hypothetical maximum activation %s:' % kernel_index, ' '.join([inversed_vocabulary[wi] for wi in best_word_indices]), numpy.max(activations, axis=-1), '\\n')"
   ]
  },
  {
   "cell_type": "markdown",
   "metadata": {},
   "source": [
    "Lets have a look at some of the kernels, e.g. kernel 10:\n",
    "\n",
    "Worst script | incoherent script | worst acting | worst acting | worst acting | abysmal screenplay | worst written | poorly scripted | poorly filmed | poorly directed\n",
    "Hypothetical maximum activation 10: worst script [1.0209291 0.7113825]\n",
    "\n",
    "* The activating bigram seems to be a negative adjective and a movie related concept\n",
    "* The hypothetical maximum activation we can generate with the given vocabulary is \"worst script\", which is very close to the first actual hit, however, this is not always the case:\n",
    "\n",
    "Kernel 13:\n",
    "movie sorry | movie Sorry | movie Oh | movie Oh | movie Oh | movie oh | movie oh | movie fails | movie fails | movie fails\n",
    "\n",
    "Hypothetical maximum activation 13: porn oops [0.6134886 1.025104 ]\n",
    "\n",
    "Sometimes the kernels are uninterpretable or they make unrealistic assumptions about the the shape of the word embedding space.\n",
    "\n",
    "* Window size does not force the kernel to learn certain length n-grams (only sets an upper boundary):\n",
    "\n",
    "Kernel 19:\n",
    "Great soundtrack | Great film | Great film | great soundtrack | great soundtrack | Great movie | Great Movies | great film | great film | great film\n",
    "\n",
    "Hypothetical maximum activation 19: Great worksheets [1.0821922 0.6044347]\n",
    "\n",
    "If we look at the maximum activations for each slot in the above kernel, we notice that the first word has almost twice as high activation as the second one. This means that basically the first word has to be \"great\" and the second word can be almost anything, i.e. the kernel is only detecting unigrams.\n",
    "\n",
    "* Looking at the kernel activations does not tell us anything about the kernel importance or relatedness to a certain output (e.g. positive review). To analyze these aspects of the network we have to look into the dense layers following the convolutional layer. This, however, is not straightforward as both CNN kernel activation strengths and dense layer weights should be analyzed together."
   ]
  },
  {
   "cell_type": "code",
   "execution_count": null,
   "metadata": {},
   "outputs": [],
   "source": []
  }
 ],
 "metadata": {
  "kernelspec": {
   "display_name": "Python 3",
   "language": "python",
   "name": "python3"
  },
  "language_info": {
   "codemirror_mode": {
    "name": "ipython",
    "version": 3
   },
   "file_extension": ".py",
   "mimetype": "text/x-python",
   "name": "python",
   "nbconvert_exporter": "python",
   "pygments_lexer": "ipython3",
   "version": "3.6.4"
  }
 },
 "nbformat": 4,
 "nbformat_minor": 2
}
